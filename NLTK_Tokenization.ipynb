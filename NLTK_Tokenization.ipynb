{
  "nbformat": 4,
  "nbformat_minor": 0,
  "metadata": {
    "colab": {
      "provenance": []
    },
    "kernelspec": {
      "name": "python3",
      "display_name": "Python 3"
    },
    "language_info": {
      "name": "python"
    }
  },
  "cells": [
    {
      "cell_type": "markdown",
      "source": [
        "# **Atividade 1 - Tokenização, Stemming, Lematização e Expressões Regulares em PLN**\n",
        "\n",
        "> **Pergunta**: [Python re.split() vs nltk word_tokenize and sent_tokenize](https://stackoverflow.com/questions/35345761/python-re-split-vs-nltk-word-tokenize-and-sent-tokenize/35348340#35348340)\n",
        "\n",
        "#### **Equipe**\n",
        "* Camille Santanta\n",
        "* Nayla Chagas\n",
        "* Túlio Gois"
      ],
      "metadata": {
        "id": "ghbxZyI6740r"
      }
    },
    {
      "cell_type": "code",
      "execution_count": null,
      "metadata": {
        "id": "Eyq8ZHMJ7REu"
      },
      "outputs": [],
      "source": [
        "!pip install --quiet nltk"
      ]
    },
    {
      "cell_type": "markdown",
      "source": [
        "## **re.split() vs nltk tokenizer**"
      ],
      "metadata": {
        "id": "crscRQl7_ALv"
      }
    },
    {
      "cell_type": "code",
      "source": [
        "import nltk\n",
        "nltk.download('punkt_tab')"
      ],
      "metadata": {
        "colab": {
          "base_uri": "https://localhost:8080/"
        },
        "id": "lUYf2xP-9BJ6",
        "outputId": "6cbd5485-0819-4289-cc91-9611148dd7d1"
      },
      "execution_count": null,
      "outputs": [
        {
          "output_type": "stream",
          "name": "stderr",
          "text": [
            "[nltk_data] Downloading package punkt_tab to /root/nltk_data...\n",
            "[nltk_data]   Package punkt_tab is already up-to-date!\n"
          ]
        },
        {
          "output_type": "execute_result",
          "data": {
            "text/plain": [
              "True"
            ]
          },
          "metadata": {},
          "execution_count": 18
        }
      ]
    },
    {
      "cell_type": "markdown",
      "source": [
        "### **re.split()**"
      ],
      "metadata": {
        "id": "rIPSqSIJAAak"
      }
    },
    {
      "cell_type": "code",
      "source": [
        "sent = \"This is a foo, bar sentence.\"\n",
        "sent.split()"
      ],
      "metadata": {
        "colab": {
          "base_uri": "https://localhost:8080/"
        },
        "id": "K7CBMrKq7j7u",
        "outputId": "028cd1bd-6c41-4e4b-93f3-dd669b636389"
      },
      "execution_count": null,
      "outputs": [
        {
          "output_type": "execute_result",
          "data": {
            "text/plain": [
              "['This', 'is', 'a', 'foo,', 'bar', 'sentence.']"
            ]
          },
          "metadata": {},
          "execution_count": 8
        }
      ]
    },
    {
      "cell_type": "markdown",
      "source": [
        "### **nltk tokenizer**"
      ],
      "metadata": {
        "id": "SOp0HLv-ACnr"
      }
    },
    {
      "cell_type": "code",
      "source": [
        "from nltk import word_tokenize\n",
        "\n",
        "word_tokenize(sent)"
      ],
      "metadata": {
        "colab": {
          "base_uri": "https://localhost:8080/"
        },
        "id": "pVRV69ld83sh",
        "outputId": "d9a1b667-d7d7-4423-f293-26216d792c72"
      },
      "execution_count": null,
      "outputs": [
        {
          "output_type": "execute_result",
          "data": {
            "text/plain": [
              "['This', 'is', 'a', 'foo', ',', 'bar', 'sentence', '.']"
            ]
          },
          "metadata": {},
          "execution_count": 19
        }
      ]
    },
    {
      "cell_type": "markdown",
      "source": [
        "## **Avaliando tempo de processamento**"
      ],
      "metadata": {
        "id": "PU3SLR2p_LUc"
      }
    },
    {
      "cell_type": "code",
      "source": [
        "import time\n",
        "import urllib.request\n",
        "url = 'https://raw.githubusercontent.com/Simdiva/DSL-Task/master/data/DSLCC-v2.0/test/test.txt'\n",
        "response = urllib.request.urlopen(url)\n",
        "data = response.read().decode('utf8')\n",
        "\n",
        "for _ in range(10):\n",
        "    start = time.time()\n",
        "    for line in data.split('\\n'):\n",
        "        line.split()\n",
        "    print ('str.split():\\t', time.time() - start)\n",
        "\n",
        "for _ in range(10):\n",
        "    start = time.time()\n",
        "    for line in data.split('\\n'):\n",
        "        word_tokenize(line)\n",
        "    print ('word_tokenize():\\t', time.time() - start)"
      ],
      "metadata": {
        "colab": {
          "base_uri": "https://localhost:8080/"
        },
        "id": "4NLy1CDo-PIo",
        "outputId": "91811f03-09f5-4dde-9e2a-4d6c9792442b"
      },
      "execution_count": null,
      "outputs": [
        {
          "output_type": "stream",
          "name": "stdout",
          "text": [
            "str.split():\t 0.06275653839111328\n",
            "str.split():\t 0.05916309356689453\n",
            "str.split():\t 0.0557255744934082\n",
            "str.split():\t 0.05568814277648926\n",
            "str.split():\t 0.05805182456970215\n",
            "str.split():\t 0.05927252769470215\n",
            "str.split():\t 0.06445670127868652\n",
            "str.split():\t 0.0639803409576416\n",
            "str.split():\t 0.058779001235961914\n",
            "str.split():\t 0.05937671661376953\n",
            "word_tokenize():\t 5.144822597503662\n",
            "word_tokenize():\t 3.4601986408233643\n",
            "word_tokenize():\t 3.4366424083709717\n",
            "word_tokenize():\t 4.27911901473999\n",
            "word_tokenize():\t 4.30973482131958\n",
            "word_tokenize():\t 3.406015396118164\n",
            "word_tokenize():\t 3.4833948612213135\n",
            "word_tokenize():\t 5.541997909545898\n",
            "word_tokenize():\t 3.72883939743042\n",
            "word_tokenize():\t 3.4897234439849854\n"
          ]
        }
      ]
    },
    {
      "cell_type": "markdown",
      "source": [
        "### **Avaliando o tempo para o TokTok Tokenizer**"
      ],
      "metadata": {
        "id": "v6vyPcFSAGkj"
      }
    },
    {
      "cell_type": "code",
      "source": [
        "from nltk.tokenize import ToktokTokenizer\n",
        "\n",
        "url = 'https://raw.githubusercontent.com/Simdiva/DSL-Task/master/data/DSLCC-v2.0/test/test.txt'\n",
        "response = urllib.request.urlopen(url)\n",
        "data = response.read().decode('utf8')\n",
        "\n",
        "toktok = ToktokTokenizer().tokenize\n",
        "\n",
        "for _ in range(10):\n",
        "    start = time.time()\n",
        "    for line in data.split('\\n'):\n",
        "        toktok(line)\n",
        "    print ('toktok:\\t', time.time() - start)"
      ],
      "metadata": {
        "colab": {
          "base_uri": "https://localhost:8080/"
        },
        "id": "TZXc3BIU-Yj_",
        "outputId": "816c0d58-1b6c-4dc8-9f0e-788ca9128b01"
      },
      "execution_count": null,
      "outputs": [
        {
          "output_type": "stream",
          "name": "stdout",
          "text": [
            "toktok:\t 1.2742667198181152\n",
            "toktok:\t 2.208367347717285\n",
            "toktok:\t 2.056178092956543\n",
            "toktok:\t 1.2482244968414307\n",
            "toktok:\t 1.236565351486206\n",
            "toktok:\t 1.2486047744750977\n",
            "toktok:\t 1.2709181308746338\n",
            "toktok:\t 1.2581582069396973\n",
            "toktok:\t 1.2600646018981934\n",
            "toktok:\t 1.2960405349731445\n"
          ]
        }
      ]
    },
    {
      "cell_type": "markdown",
      "source": [
        "## **Comparando com a implementação nativa do TokTok Tokenizer em perl**"
      ],
      "metadata": {
        "id": "69ya6pbV_ZkK"
      }
    },
    {
      "cell_type": "code",
      "source": [
        "!wget https://raw.githubusercontent.com/jonsafari/tok-tok/master/tok-tok.pl\n",
        "!wget wget https://raw.githubusercontent.com/Simdiva/DSL-Task/master/data/DSLCC-v2.0/test/test.txt"
      ],
      "metadata": {
        "colab": {
          "base_uri": "https://localhost:8080/"
        },
        "id": "_noa3A8O-q1M",
        "outputId": "fa5d00f7-be71-4dfb-c758-d0f034938a20"
      },
      "execution_count": null,
      "outputs": [
        {
          "output_type": "stream",
          "name": "stdout",
          "text": [
            "--2025-06-16 23:06:45--  https://raw.githubusercontent.com/jonsafari/tok-tok/master/tok-tok.pl\n",
            "Resolving raw.githubusercontent.com (raw.githubusercontent.com)... 185.199.108.133, 185.199.109.133, 185.199.110.133, ...\n",
            "Connecting to raw.githubusercontent.com (raw.githubusercontent.com)|185.199.108.133|:443... connected.\n",
            "HTTP request sent, awaiting response... 200 OK\n",
            "Length: 3003 (2.9K) [text/plain]\n",
            "Saving to: ‘tok-tok.pl.1’\n",
            "\n",
            "\rtok-tok.pl.1          0%[                    ]       0  --.-KB/s               \rtok-tok.pl.1        100%[===================>]   2.93K  --.-KB/s    in 0s      \n",
            "\n",
            "2025-06-16 23:06:45 (35.0 MB/s) - ‘tok-tok.pl.1’ saved [3003/3003]\n",
            "\n",
            "--2025-06-16 23:06:45--  http://wget/\n",
            "Resolving wget (wget)... failed: Name or service not known.\n",
            "wget: unable to resolve host address ‘wget’\n",
            "--2025-06-16 23:06:45--  https://raw.githubusercontent.com/Simdiva/DSL-Task/master/data/DSLCC-v2.0/test/test.txt\n",
            "Resolving raw.githubusercontent.com (raw.githubusercontent.com)... 185.199.109.133, 185.199.110.133, 185.199.108.133, ...\n",
            "Connecting to raw.githubusercontent.com (raw.githubusercontent.com)|185.199.109.133|:443... connected.\n",
            "HTTP request sent, awaiting response... 200 OK\n",
            "Length: 3483550 (3.3M) [text/plain]\n",
            "Saving to: ‘test.txt’\n",
            "\n",
            "test.txt            100%[===================>]   3.32M  --.-KB/s    in 0.06s   \n",
            "\n",
            "2025-06-16 23:06:45 (57.2 MB/s) - ‘test.txt’ saved [3483550/3483550]\n",
            "\n",
            "FINISHED --2025-06-16 23:06:45--\n",
            "Total wall clock time: 0.3s\n",
            "Downloaded: 1 files, 3.3M in 0.06s (57.2 MB/s)\n"
          ]
        }
      ]
    },
    {
      "cell_type": "code",
      "source": [
        "!time perl tok-tok.pl < test.txt > /tmp/null"
      ],
      "metadata": {
        "colab": {
          "base_uri": "https://localhost:8080/"
        },
        "id": "fdX-7-g1_kbt",
        "outputId": "cbd1c677-7ec3-4063-d59f-de75c1202cd8"
      },
      "execution_count": null,
      "outputs": [
        {
          "output_type": "stream",
          "name": "stdout",
          "text": [
            "\n",
            "real\t0m1.348s\n",
            "user\t0m1.192s\n",
            "sys\t0m0.035s\n"
          ]
        }
      ]
    },
    {
      "cell_type": "markdown",
      "source": [
        "### **sent_tokenize( )**"
      ],
      "metadata": {
        "id": "3-RzFx0UCT4U"
      }
    },
    {
      "cell_type": "code",
      "source": [
        "text = \"\"\"In the third category he included those Brothers (the majority) who saw nothing in Freemasonry but the external forms and ceremonies, and prized the strict performance of these forms without troubling about their purport or significance. Such were Willarski and even the Grand Master of the principal lodge. Finally, to the fourth category also a great many Brothers belonged, particularly those who had lately joined. These according to Pierre's observations were men who had no belief in anything, nor desire for anything, but joined the Freemasons merely to associate with the wealthy young Brothers who were influential through their connections or rank, and of whom there were very many in the lodge.Pierre began to feel dissatisfied with what he was doing. Freemasonry, at any rate as he saw it here, sometimes seemed to him based merely on externals. He did not think of doubting Freemasonry itself, but suspected that Russian Masonry had taken a wrong path and deviated from its original principles. And so toward the end of the year he went abroad to be initiated into the higher secrets of the order.What is to be done in these circumstances? To favor revolutions, overthrow everything, repel force by force?No! We are very far from that. Every violent reform deserves censure, for it quite fails to remedy evil while men remain what they are, and also because wisdom needs no violence. \"But what is there in running across it like that?\" said Ilagin's groom. \"Once she had missed it and turned it away, any mongrel could take it,\" Ilagin was saying at the same time, breathless from his gallop and his excitement. \"\"\"\n",
        "\n",
        "answer = \"\"\"In the third category he included those Brothers (the majority) who saw nothing in Freemasonry but the external forms and ceremonies, and prized the strict performance of these forms without troubling about their purport or significance.\n",
        "Such were Willarski and even the Grand Master of the principal lodge.\n",
        "Finally, to the fourth category also a great many Brothers belonged, particularly those who had lately joined.\n",
        "These according to Pierre's observations were men who had no belief in anything, nor desire for anything, but joined the Freemasons merely to associate with the wealthy young Brothers who were influential through their connections or rank, and of whom there were very many in the lodge.\n",
        "Pierre began to feel dissatisfied with what he was doing.\n",
        "Freemasonry, at any rate as he saw it here, sometimes seemed to him based merely on externals.\n",
        "He did not think of doubting Freemasonry itself, but suspected that Russian Masonry had taken a wrong path and deviated from its original principles.\n",
        "And so toward the end of the year he went abroad to be initiated into the higher secrets of the order.\n",
        "What is to be done in these circumstances?\n",
        "To favor revolutions, overthrow everything, repel force by force?\n",
        "No!\n",
        "We are very far from that.\n",
        "Every violent reform deserves censure, for it quite fails to remedy evil while men remain what they are, and also because wisdom needs no violence.\n",
        "\"But what is there in running across it like that?\" said Ilagin's groom.\n",
        "\"Once she had missed it and turned it away, any mongrel could take it,\" Ilagin was saying at the same time, breathless from his gallop and his excitement.\"\"\"\n"
      ],
      "metadata": {
        "id": "Wq51AZFD_mWZ"
      },
      "execution_count": null,
      "outputs": []
    },
    {
      "cell_type": "code",
      "source": [
        "sum(1 for sent in text.split('\\n') if sent in answer)"
      ],
      "metadata": {
        "colab": {
          "base_uri": "https://localhost:8080/"
        },
        "id": "H9Wm2d9aAmOP",
        "outputId": "4d5bbfc6-d06a-470a-bf4b-b35170697d8e"
      },
      "execution_count": null,
      "outputs": [
        {
          "output_type": "execute_result",
          "data": {
            "text/plain": [
              "0"
            ]
          },
          "metadata": {},
          "execution_count": 25
        }
      ]
    },
    {
      "cell_type": "code",
      "source": [
        "display(text.split('\\n'))"
      ],
      "metadata": {
        "colab": {
          "base_uri": "https://localhost:8080/",
          "height": 156
        },
        "id": "lIf0cULgAux-",
        "outputId": "999f8ec0-aa9b-4efc-c273-85e28fe475ad"
      },
      "execution_count": null,
      "outputs": [
        {
          "output_type": "display_data",
          "data": {
            "text/plain": [
              "['In the third category he included those Brothers (the majority) who saw nothing in Freemasonry but the external forms and ceremonies, and prized the strict performance of these forms without troubling about their purport or significance. Such were Willarski and even the Grand Master of the principal lodge. Finally, to the fourth category also a great many Brothers belonged, particularly those who had lately joined. These according to Pierre\\'s observations were men who had no belief in anything, nor desire for anything, but joined the Freemasons merely to associate with the wealthy young Brothers who were influential through their connections or rank, and of whom there were very many in the lodge.Pierre began to feel dissatisfied with what he was doing. Freemasonry, at any rate as he saw it here, sometimes seemed to him based merely on externals. He did not think of doubting Freemasonry itself, but suspected that Russian Masonry had taken a wrong path and deviated from its original principles. And so toward the end of the year he went abroad to be initiated into the higher secrets of the order.What is to be done in these circumstances? To favor revolutions, overthrow everything, repel force by force?No! We are very far from that. Every violent reform deserves censure, for it quite fails to remedy evil while men remain what they are, and also because wisdom needs no violence. \"But what is there in running across it like that?\" said Ilagin\\'s groom. \"Once she had missed it and turned it away, any mongrel could take it,\" Ilagin was saying at the same time, breathless from his gallop and his excitement. ']"
            ]
          },
          "metadata": {}
        }
      ]
    },
    {
      "cell_type": "code",
      "source": [
        "from nltk import sent_tokenize\n",
        "sent_tokenize(text)"
      ],
      "metadata": {
        "colab": {
          "base_uri": "https://localhost:8080/"
        },
        "id": "hf63JCtbBXud",
        "outputId": "483c8fe2-5ded-4e1a-82a6-97b97b680499"
      },
      "execution_count": null,
      "outputs": [
        {
          "output_type": "execute_result",
          "data": {
            "text/plain": [
              "['In the third category he included those Brothers (the majority) who saw nothing in Freemasonry but the external forms and ceremonies, and prized the strict performance of these forms without troubling about their purport or significance.',\n",
              " 'Such were Willarski and even the Grand Master of the principal lodge.',\n",
              " 'Finally, to the fourth category also a great many Brothers belonged, particularly those who had lately joined.',\n",
              " \"These according to Pierre's observations were men who had no belief in anything, nor desire for anything, but joined the Freemasons merely to associate with the wealthy young Brothers who were influential through their connections or rank, and of whom there were very many in the lodge.Pierre began to feel dissatisfied with what he was doing.\",\n",
              " 'Freemasonry, at any rate as he saw it here, sometimes seemed to him based merely on externals.',\n",
              " 'He did not think of doubting Freemasonry itself, but suspected that Russian Masonry had taken a wrong path and deviated from its original principles.',\n",
              " 'And so toward the end of the year he went abroad to be initiated into the higher secrets of the order.What is to be done in these circumstances?',\n",
              " 'To favor revolutions, overthrow everything, repel force by force?No!',\n",
              " 'We are very far from that.',\n",
              " 'Every violent reform deserves censure, for it quite fails to remedy evil while men remain what they are, and also because wisdom needs no violence.',\n",
              " '\"But what is there in running across it like that?\"',\n",
              " \"said Ilagin's groom.\",\n",
              " '\"Once she had missed it and turned it away, any mongrel could take it,\" Ilagin was saying at the same time, breathless from his gallop and his excitement.']"
            ]
          },
          "metadata": {},
          "execution_count": 27
        }
      ]
    }
  ]
}